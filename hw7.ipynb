{
 "cells": [
  {
   "cell_type": "code",
   "execution_count": 19,
   "metadata": {
    "collapsed": true,
    "deletable": true,
    "editable": true
   },
   "outputs": [],
   "source": [
    "import matplotlib.pyplot as plt\n",
    "import numpy as np\n",
    "from IPython.display import Image"
   ]
  },
  {
   "cell_type": "markdown",
   "metadata": {
    "deletable": true,
    "editable": true
   },
   "source": [
    "In the z-folded cavity, we have ten relevant variables, which are shown in the diagram below.\n",
    "![title](zfolddiagram.png)\n",
    "The variables depicted are the length of one arm $L_1$, the angle of one arm w.r.t. the curved mirror $\\theta_1$, the distance of the brewster plate from the curved mirror $z_1$, the distance between the two curved mirrors $z$, the angle of the other arm w.r.t the other curved mirror $\\theta_2$, the lenght of the other arm $L_2$, the two waists at the center of the brewster plate $\\tilde{w_x}$ and $\\tilde{w_y}$, and the two waists at the output coupler, $w_x$, and $w_y$. Note that the $w$'s are all functions of the other parameters. We demand the following:\n",
    "\n",
    "$$\n",
    "(w_x - w_y)= 0 \\\\\n",
    "\\frac{d(w_x - w_y)}{dz} = 0 \\\\\n",
    "\\frac{d(\\tilde{w_x}\\tilde{w_y})}{dz_1} = 0 \\\\\n",
    "\\text{cavity } \\text{stability} \\\\\n",
    "\\theta_1 = \\theta_2 \n",
    "$$\n",
    "\n",
    "The first equation says that the beam is round at the output. The second says the beam should remain round even when the laser is perturbed. The third says the brewster plate has to be at the tightest focus. We will determine what cavity stability means later in the numerical analysis, and the last equation, demanding the angles are equal, is our choice, because we have enough degrees of freedom. Then, we have four equations and five parameters, $L_1, L_2, z, z_1$ and $\\theta_1 = \\theta_2 = \\theta$. This gives us one free parameter, to tune both the round trip time, and the beam waist at the output coupler. Approximate $z_1$ = $z/2$ to simplify the analysis.\n",
    "\n",
    "Finally, the two small arrows indicate how we start our ABCD matrices to obtain the relevant quantities."
   ]
  },
  {
   "cell_type": "markdown",
   "metadata": {
    "deletable": true,
    "editable": true
   },
   "source": [
    "We start the analysis by writing down the ABCD matrices of each optical element."
   ]
  },
  {
   "cell_type": "code",
   "execution_count": 20,
   "metadata": {
    "collapsed": false,
    "deletable": true,
    "editable": true
   },
   "outputs": [],
   "source": [
    "def freemat(length):\n",
    "    return np.matrix([[1, length], [0, 1]])\n",
    "\n",
    "\n",
    "def ybrewstermat(n1, width):\n",
    "    return np.matrix([[1, width / n1], [0, 1]])\n",
    "\n",
    "\n",
    "def xbrewstermat(n1, width):\n",
    "    return np.matrix([[1, width / n1**3], [0, 1]])\n",
    "\n",
    "\n",
    "def xmirrormat(theta, rmirror):\n",
    "    return np.matrix([[1, 0],\n",
    "                      [-2 / (rmirror * np.cos(theta)), 1]])\n",
    "\n",
    "def ymirrormat(theta, rmirror):\n",
    "    return np.matrix([[1, 0],\n",
    "                      [-2 / (rmirror) * np.cos(theta), 1]])"
   ]
  },
  {
   "cell_type": "markdown",
   "metadata": {
    "deletable": true,
    "editable": true
   },
   "source": [
    "Next, we multiply the matrices and compute the two relevant waists."
   ]
  },
  {
   "cell_type": "code",
   "execution_count": 47,
   "metadata": {
    "collapsed": false,
    "deletable": true,
    "editable": true
   },
   "outputs": [],
   "source": [
    "def twowaists(midlen, theta,\n",
    "              rmir=100, nbrew=1.5, brewwid=2, \n",
    "              arm1len=1000.,\n",
    "              armlenratio=1.1,\n",
    "              lamda=1.56 * 10**(-3)):\n",
    "    arm2len = arm1len * armlenratio\n",
    "    brewlen = midlen/2\n",
    "    \n",
    "    xarm2 = freemat(2 * arm2len)\n",
    "    xmirror = xmirrormat(2 * theta, rmir)\n",
    "    xtobrew = freemat(brewlen)\n",
    "    xbrew = xbrewstermat(nbrew, brewwid)\n",
    "    xtom1 = freemat(midlen - brewlen - brewwid)\n",
    "    xarm1 = freemat(2 * arm1len)\n",
    "    \n",
    "    xabcd = xmirror * \\\n",
    "            xtobrew * xbrew * xtom1 * xmirror * \\\n",
    "            xarm2 * xmirror * \\\n",
    "            xtom1 * xbrew * xtobrew * xmirror * \\\n",
    "            xarm1\n",
    "            \n",
    "    xa = xabcd[0, 0]\n",
    "    xc = xabcd[1, 0]\n",
    "    xd = xabcd[1, 1]\n",
    "    \n",
    "    yarm2 = freemat(2 * arm2len)\n",
    "    ymirror = ymirrormat(2 * theta, rmir)\n",
    "    ytobrew = freemat(brewlen)\n",
    "    ybrew = ybrewstermat(nbrew, brewwid)\n",
    "    ytom1 = freemat(midlen - brewlen - brewwid)\n",
    "    yarm1 = freemat(2 * arm1len)\n",
    "    \n",
    "    yabcd = ymirror * \\\n",
    "            ytobrew * ybrew * ytom1 * ymirror * \\\n",
    "            yarm2 * ymirror * \\\n",
    "            ytom1 * ybrew * ytobrew * ymirror * \\\n",
    "            yarm1\n",
    "\n",
    "    ya = yabcd[0, 0]\n",
    "    yc = yabcd[1, 0]\n",
    "    yd = yabcd[1, 1]\n",
    "    \n",
    "    if ( (np.abs(xa + xd) / 2 < 1) and \n",
    "        (np.abs(ya + yd) / 2 < 1) ):\n",
    "        \n",
    "        xoutwaist = np.sqrt(lamda * np.sqrt(4 - (xa + xd)**2) /\n",
    "                            2 * np.pi * np.abs(xc))\n",
    "        \n",
    "        youtwaist = np.sqrt(lamda * np.sqrt(4 - (ya + yd)**2) /\n",
    "                            2 * np.pi * np.abs(yc))\n",
    "        \n",
    "    else:\n",
    "        xoutwaist = np.nan\n",
    "        youtwaist = np.nan\n",
    "    '''    \n",
    "    xabcd = xtobrew * xbrew * xtom1 * xmirror * \\\n",
    "            xarm1 * xmirror * \\\n",
    "            xtom1 * xbrew * xtobrew * xmirror * \\\n",
    "            xarm2 * xmirror\n",
    "            \n",
    "    xa = xabcd[0, 0]\n",
    "    xc = xabcd[1, 0]\n",
    "    xd = xabcd[1, 1]\n",
    "    \n",
    "    yabcd = ytobrew * ybrew * ytom1 * ymirror * \\\n",
    "            yarm1 * ymirror * \\\n",
    "            ytom1 * ybrew * ytobrew * ymirror * \\\n",
    "            yarm2 * ymirror\n",
    "            \n",
    "    ya = yabcd[0, 0]\n",
    "    yc = yabcd[1, 0]\n",
    "    yd = yabcd[1, 1]\n",
    "    \n",
    "    if ( (np.abs(xa + xd) / 2 < 1) and \n",
    "        (np.abs(ya + yd) / 2 < 1) ):\n",
    "        \n",
    "        xmidwaist = np.sqrt(lamda * np.sqrt(4 - (xa + xd)**2) /\n",
    "                            2 * np.pi * np.abs(xc))\n",
    "        \n",
    "        ymidwaist = np.sqrt(lamda * np.sqrt(4 - (ya + yd)**2) /\n",
    "                            2 * np.pi * np.abs(yc))\n",
    "        \n",
    "    else:\n",
    "        xmidwaist = np.nan\n",
    "        ymidwaist = np.nan\n",
    "    '''    \n",
    "    return np.array([xoutwaist, youtwaist])"
   ]
  },
  {
   "cell_type": "markdown",
   "metadata": {
    "deletable": true,
    "editable": true
   },
   "source": [
    "We've enforced two of our five constraints already: cavity stability and $\\theta_1 = \\theta_2$. What remains are the three other constraints."
   ]
  },
  {
   "cell_type": "code",
   "execution_count": 48,
   "metadata": {
    "collapsed": false,
    "deletable": true,
    "editable": true
   },
   "outputs": [],
   "source": [
    "rmir = 100\n",
    "ngain = 1.5\n",
    "lgain = 2.0\n",
    "lamda = 1.56 * 10**(-3)\n",
    "\n",
    "lmiddles = np.arange(52, 58, .01)\n",
    "thetas = np.arange(.1, 10.1, 1) * np.pi / 180.0"
   ]
  },
  {
   "cell_type": "code",
   "execution_count": 52,
   "metadata": {
    "collapsed": false,
    "deletable": true,
    "editable": true
   },
   "outputs": [],
   "source": [
    "results = np.array([[twowaists(l, theta, arm1len=750) for l in lmiddles] for theta in thetas])"
   ]
  },
  {
   "cell_type": "code",
   "execution_count": 53,
   "metadata": {
    "collapsed": false
   },
   "outputs": [
    {
     "data": {
      "text/plain": [
       "array([ 0.00174533,  0.01919862,  0.03665191,  0.05410521,  0.0715585 ,\n",
       "        0.08901179,  0.10646508,  0.12391838,  0.14137167,  0.15882496])"
      ]
     },
     "execution_count": 53,
     "metadata": {},
     "output_type": "execute_result"
    }
   ],
   "source": [
    "thetas"
   ]
  },
  {
   "cell_type": "code",
   "execution_count": 54,
   "metadata": {
    "collapsed": false,
    "deletable": true,
    "editable": true
   },
   "outputs": [
    {
     "data": {
      "image/png": "[encoded data removed]",
      "text/plain": [
       "<matplotlib.figure.Figure at 0x7fa6c2132860>"
      ]
     },
     "metadata": {},
     "output_type": "display_data"
    },
    {
     "data": {
      "image/png": "[encoded data removed]",
      "text/plain": [
       "<matplotlib.figure.Figure at 0x7fa6c22de320>"
      ]
     },
     "metadata": {},
     "output_type": "display_data"
    },
    {
     "data": {
      "image/png": "[encoded data removed]",
      "text/plain": [
       "<matplotlib.figure.Figure at 0x7fa6c2434390>"
      ]
     },
     "metadata": {},
     "output_type": "display_data"
    },
    {
     "data": {
      "image/png": "[encoded data removed]",
      "text/plain": [
       "<matplotlib.figure.Figure at 0x7fa6c2538ac8>"
      ]
     },
     "metadata": {},
     "output_type": "display_data"
    },
    {
     "data": {
      "image/png": "[encoded data removed]",
      "text/plain": [
       "<matplotlib.figure.Figure at 0x7fa6c23101d0>"
      ]
     },
     "metadata": {},
     "output_type": "display_data"
    },
    {
     "data": {
      "image/png": "[encoded data removed]",
      "text/plain": [
       "<matplotlib.figure.Figure at 0x7fa6c21f49e8>"
      ]
     },
     "metadata": {},
     "output_type": "display_data"
    },
    {
     "data": {
      "image/png": "[encoded data removed]",
      "text/plain": [
       "<matplotlib.figure.Figure at 0x7fa6c23357f0>"
      ]
     },
     "metadata": {},
     "output_type": "display_data"
    },
    {
     "data": {
      "image/png": "[encoded data removed]",
      "text/plain": [
       "<matplotlib.figure.Figure at 0x7fa6c2372748>"
      ]
     },
     "metadata": {},
     "output_type": "display_data"
    },
    {
     "data": {
      "image/png": "[encoded data removed]",
      "text/plain": [
       "<matplotlib.figure.Figure at 0x7fa6c225f4a8>"
      ]
     },
     "metadata": {},
     "output_type": "display_data"
    },
    {
     "data": {
      "image/png": "[encoded data removed]",
      "text/plain": [
       "<matplotlib.figure.Figure at 0x7fa6c2232470>"
      ]
     },
     "metadata": {},
     "output_type": "display_data"
    }
   ],
   "source": [
    "for j in range(len(thetas)):\n",
    "    plt.figure(j)\n",
    "    plt.plot(lmiddles, results[j, :, 0], lmiddles, results[j, :, 1])\n",
    "\n",
    "    plt.show()"
   ]
  },
  {
   "cell_type": "code",
   "execution_count": null,
   "metadata": {
    "collapsed": true
   },
   "outputs": [],
   "source": []
  }
 ],
 "metadata": {
  "kernelspec": {
   "display_name": "Python 3",
   "language": "python",
   "name": "python3"
  },
  "language_info": {
   "codemirror_mode": {
    "name": "ipython",
    "version": 3
   },
   "file_extension": ".py",
   "mimetype": "text/x-python",
   "name": "python",
   "nbconvert_exporter": "python",
   "pygments_lexer": "ipython3",
   "version": "3.5.2"
  }
 },
 "nbformat": 4,
 "nbformat_minor": 2
}
